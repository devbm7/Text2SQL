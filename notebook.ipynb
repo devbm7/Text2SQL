{
 "cells": [
  {
   "cell_type": "code",
   "execution_count": 10,
   "metadata": {},
   "outputs": [
    {
     "name": "stdout",
     "output_type": "stream",
     "text": [
      "Table 'gotham' created with schema: id INTEGER, name TEXT, alias TEXT\n",
      "Data Loaded into 'gotham' table in 'gotham_db.db' SQLite database.\n"
     ]
    }
   ],
   "source": [
    "import sqlite3\n",
    "import pandas as pd\n",
    "\n",
    "def csv_to_sqlite(csv_file, db_name, tablename):\n",
    "    df = pd.read_csv(csv_file)\n",
    "\n",
    "    conn = sqlite3.connect(db_name)\n",
    "    cursor = conn.cursor()\n",
    "\n",
    "    def create_table_from_df(df,tablename):\n",
    "        col_types = []\n",
    "        for col in df.columns:\n",
    "            dtype = df[col].dtype\n",
    "            if dtype == 'int64':\n",
    "                col_type = 'INTEGER'\n",
    "            elif dtype == 'float64':\n",
    "                col_type = 'REAL'\n",
    "            else:\n",
    "                col_type = 'TEXT'\n",
    "            col_types.append(f'{col} {col_type}')\n",
    "\n",
    "        # Create table Schema\n",
    "        col_definitions = \", \".join(col_types)\n",
    "        create_table_query = f'CREATE TABLE IF NOT EXISTS {tablename} ({col_definitions});'\n",
    "\n",
    "        cursor.execute(create_table_query)\n",
    "        print(f\"Table '{tablename}' created with schema: {col_definitions}\")\n",
    "\n",
    "    create_table_from_df(df,tablename)\n",
    "    \n",
    "    df.to_sql(tablename, conn, if_exists='replace', index=False)\n",
    "\n",
    "    conn.commit()\n",
    "    conn.close()\n",
    "    print(f\"Data Loaded into '{tablename}' table in '{db_name}' SQLite database.\")\n",
    "\n",
    "csv_file = \"data.csv\"\n",
    "db_name = \"db.db\"\n",
    "tablename = \"gotham\"\n",
    "\n",
    "csv_to_sqlite(csv_file, db_name, tablename)"
   ]
  },
  {
   "cell_type": "code",
   "execution_count": 5,
   "metadata": {},
   "outputs": [],
   "source": [
    "def run_sql_query(db_name, query):\n",
    "    try:\n",
    "        conn = sqlite3.connect(db_name)\n",
    "        cursor = conn.cursor()\n",
    "\n",
    "        cursor.execute(query)\n",
    "\n",
    "        results = cursor.fetchall()\n",
    "\n",
    "        conn.close()\n",
    "\n",
    "        return results\n",
    "    except sqlite3.error as e:\n",
    "        print(\"Following error occured in execution: \", e)\n",
    "        return []"
   ]
  },
  {
   "cell_type": "code",
   "execution_count": 11,
   "metadata": {},
   "outputs": [
    {
     "name": "stdout",
     "output_type": "stream",
     "text": [
      "(1, 'Bruce', 'Batman')\n",
      "(2, 'Selina', 'Catwoman')\n",
      "(3, 'Tim', 'Robin')\n",
      "(4, 'Damian', 'Heir')\n",
      "(5, 'Barbara', 'Batwgirl')\n",
      "(6, 'Katherine', 'Batwoman')\n",
      "(7, 'Jim', 'Commisioner')\n"
     ]
    }
   ],
   "source": [
    "query = f\"SELECT * FROM {tablename};\"\n",
    "results = run_sql_query(db_name, query)\n",
    "\n",
    "if results:\n",
    "    for row in results:\n",
    "        print(row)"
   ]
  },
  {
   "cell_type": "code",
   "execution_count": null,
   "metadata": {},
   "outputs": [],
   "source": [
    "from langchain_community.llms import ollama\n",
    "\n"
   ]
  }
 ],
 "metadata": {
  "kernelspec": {
   "display_name": "Python 3",
   "language": "python",
   "name": "python3"
  },
  "language_info": {
   "codemirror_mode": {
    "name": "ipython",
    "version": 3
   },
   "file_extension": ".py",
   "mimetype": "text/x-python",
   "name": "python",
   "nbconvert_exporter": "python",
   "pygments_lexer": "ipython3",
   "version": "3.12.3"
  }
 },
 "nbformat": 4,
 "nbformat_minor": 2
}
